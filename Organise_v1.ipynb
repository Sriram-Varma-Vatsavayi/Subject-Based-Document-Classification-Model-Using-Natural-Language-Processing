{
 "cells": [
  {
   "cell_type": "code",
   "execution_count": 1,
   "id": "e8d9f729",
   "metadata": {},
   "outputs": [],
   "source": [
    "from docx.api import Document\n",
    "import os, shutil\n",
    "import spacy\n",
    "import numpy as np\n",
    "from rake_nltk import Rake\n",
    "import nltk\n",
    "from nltk.corpus import stopwords\n",
    "from nltk import punkt\n",
    "import string \n",
    "import sys"
   ]
  },
  {
   "cell_type": "code",
   "execution_count": 2,
   "id": "79a08fcb",
   "metadata": {},
   "outputs": [],
   "source": [
    "nlp = spacy.load(\"en_core_web_lg\")"
   ]
  },
  {
   "cell_type": "code",
   "execution_count": 3,
   "id": "82f18f22",
   "metadata": {},
   "outputs": [],
   "source": [
    "path = sys.argv[1]\n",
    "\n",
    "mkey = \"\"\n",
    "pkey = \"\"\n",
    "ckey = \"\"\n",
    "file = Document(\"MathKeywords2.docx\")\n",
    "for p in file.paragraphs:\n",
    "    mkey += p.text +\" \"\n",
    "\n",
    "file = Document(\"chemKeywords.docx\")\n",
    "for p in file.paragraphs:\n",
    "    ckey += p.text+ \" \"\n",
    "\n",
    "file = Document(\"PhysKeywords.docx\")\n",
    "for p in file.paragraphs:\n",
    "    pkey += p.text + \" \"\n",
    "\n",
    "mkey = mkey.lower()\n",
    "pkey = pkey.lower()\n",
    "ckey = ckey.lower()\n",
    "\n",
    "\n",
    "mkey = nlp(mkey)\n",
    "pkey = nlp(pkey)\n",
    "ckey = nlp(ckey)"
   ]
  },
  {
   "cell_type": "code",
   "execution_count": 4,
   "id": "b9abce0d",
   "metadata": {},
   "outputs": [
    {
     "ename": "PackageNotFoundError",
     "evalue": "Package not found at '-f'",
     "output_type": "error",
     "traceback": [
      "\u001b[0;31m---------------------------------------------------------------------------\u001b[0m",
      "\u001b[0;31mPackageNotFoundError\u001b[0m                      Traceback (most recent call last)",
      "Cell \u001b[0;32mIn[4], line 1\u001b[0m\n\u001b[0;32m----> 1\u001b[0m test \u001b[38;5;241m=\u001b[39m Document(path)\n\u001b[1;32m      2\u001b[0m r \u001b[38;5;241m=\u001b[39m Rake()\n\u001b[1;32m      3\u001b[0m content \u001b[38;5;241m=\u001b[39m \u001b[38;5;124m\"\u001b[39m\u001b[38;5;124m\"\u001b[39m\n",
      "File \u001b[0;32m/opt/anaconda3/lib/python3.11/site-packages/docx/api.py:27\u001b[0m, in \u001b[0;36mDocument\u001b[0;34m(docx)\u001b[0m\n\u001b[1;32m     20\u001b[0m \u001b[38;5;250m\u001b[39m\u001b[38;5;124;03m\"\"\"Return a |Document| object loaded from `docx`, where `docx` can be either a path\u001b[39;00m\n\u001b[1;32m     21\u001b[0m \u001b[38;5;124;03mto a ``.docx`` file (a string) or a file-like object.\u001b[39;00m\n\u001b[1;32m     22\u001b[0m \n\u001b[1;32m     23\u001b[0m \u001b[38;5;124;03mIf `docx` is missing or ``None``, the built-in default document \"template\" is\u001b[39;00m\n\u001b[1;32m     24\u001b[0m \u001b[38;5;124;03mloaded.\u001b[39;00m\n\u001b[1;32m     25\u001b[0m \u001b[38;5;124;03m\"\"\"\u001b[39;00m\n\u001b[1;32m     26\u001b[0m docx \u001b[38;5;241m=\u001b[39m _default_docx_path() \u001b[38;5;28;01mif\u001b[39;00m docx \u001b[38;5;129;01mis\u001b[39;00m \u001b[38;5;28;01mNone\u001b[39;00m \u001b[38;5;28;01melse\u001b[39;00m docx\n\u001b[0;32m---> 27\u001b[0m document_part \u001b[38;5;241m=\u001b[39m cast(\u001b[38;5;124m\"\u001b[39m\u001b[38;5;124mDocumentPart\u001b[39m\u001b[38;5;124m\"\u001b[39m, Package\u001b[38;5;241m.\u001b[39mopen(docx)\u001b[38;5;241m.\u001b[39mmain_document_part)\n\u001b[1;32m     28\u001b[0m \u001b[38;5;28;01mif\u001b[39;00m document_part\u001b[38;5;241m.\u001b[39mcontent_type \u001b[38;5;241m!=\u001b[39m CT\u001b[38;5;241m.\u001b[39mWML_DOCUMENT_MAIN:\n\u001b[1;32m     29\u001b[0m     tmpl \u001b[38;5;241m=\u001b[39m \u001b[38;5;124m\"\u001b[39m\u001b[38;5;124mfile \u001b[39m\u001b[38;5;124m'\u001b[39m\u001b[38;5;132;01m%s\u001b[39;00m\u001b[38;5;124m'\u001b[39m\u001b[38;5;124m is not a Word file, content type is \u001b[39m\u001b[38;5;124m'\u001b[39m\u001b[38;5;132;01m%s\u001b[39;00m\u001b[38;5;124m'\u001b[39m\u001b[38;5;124m\"\u001b[39m\n",
      "File \u001b[0;32m/opt/anaconda3/lib/python3.11/site-packages/docx/opc/package.py:127\u001b[0m, in \u001b[0;36mOpcPackage.open\u001b[0;34m(cls, pkg_file)\u001b[0m\n\u001b[1;32m    124\u001b[0m \u001b[38;5;129m@classmethod\u001b[39m\n\u001b[1;32m    125\u001b[0m \u001b[38;5;28;01mdef\u001b[39;00m \u001b[38;5;21mopen\u001b[39m(\u001b[38;5;28mcls\u001b[39m, pkg_file: \u001b[38;5;28mstr\u001b[39m \u001b[38;5;241m|\u001b[39m IO[\u001b[38;5;28mbytes\u001b[39m]) \u001b[38;5;241m-\u001b[39m\u001b[38;5;241m>\u001b[39m OpcPackage:\n\u001b[1;32m    126\u001b[0m \u001b[38;5;250m    \u001b[39m\u001b[38;5;124;03m\"\"\"Return an |OpcPackage| instance loaded with the contents of `pkg_file`.\"\"\"\u001b[39;00m\n\u001b[0;32m--> 127\u001b[0m     pkg_reader \u001b[38;5;241m=\u001b[39m PackageReader\u001b[38;5;241m.\u001b[39mfrom_file(pkg_file)\n\u001b[1;32m    128\u001b[0m     package \u001b[38;5;241m=\u001b[39m \u001b[38;5;28mcls\u001b[39m()\n\u001b[1;32m    129\u001b[0m     Unmarshaller\u001b[38;5;241m.\u001b[39munmarshal(pkg_reader, package, PartFactory)\n",
      "File \u001b[0;32m/opt/anaconda3/lib/python3.11/site-packages/docx/opc/pkgreader.py:22\u001b[0m, in \u001b[0;36mPackageReader.from_file\u001b[0;34m(pkg_file)\u001b[0m\n\u001b[1;32m     19\u001b[0m \u001b[38;5;129m@staticmethod\u001b[39m\n\u001b[1;32m     20\u001b[0m \u001b[38;5;28;01mdef\u001b[39;00m \u001b[38;5;21mfrom_file\u001b[39m(pkg_file):\n\u001b[1;32m     21\u001b[0m \u001b[38;5;250m    \u001b[39m\u001b[38;5;124;03m\"\"\"Return a |PackageReader| instance loaded with contents of `pkg_file`.\"\"\"\u001b[39;00m\n\u001b[0;32m---> 22\u001b[0m     phys_reader \u001b[38;5;241m=\u001b[39m PhysPkgReader(pkg_file)\n\u001b[1;32m     23\u001b[0m     content_types \u001b[38;5;241m=\u001b[39m _ContentTypeMap\u001b[38;5;241m.\u001b[39mfrom_xml(phys_reader\u001b[38;5;241m.\u001b[39mcontent_types_xml)\n\u001b[1;32m     24\u001b[0m     pkg_srels \u001b[38;5;241m=\u001b[39m PackageReader\u001b[38;5;241m.\u001b[39m_srels_for(phys_reader, PACKAGE_URI)\n",
      "File \u001b[0;32m/opt/anaconda3/lib/python3.11/site-packages/docx/opc/phys_pkg.py:21\u001b[0m, in \u001b[0;36mPhysPkgReader.__new__\u001b[0;34m(cls, pkg_file)\u001b[0m\n\u001b[1;32m     19\u001b[0m         reader_cls \u001b[38;5;241m=\u001b[39m _ZipPkgReader\n\u001b[1;32m     20\u001b[0m     \u001b[38;5;28;01melse\u001b[39;00m:\n\u001b[0;32m---> 21\u001b[0m         \u001b[38;5;28;01mraise\u001b[39;00m PackageNotFoundError(\u001b[38;5;124m\"\u001b[39m\u001b[38;5;124mPackage not found at \u001b[39m\u001b[38;5;124m'\u001b[39m\u001b[38;5;132;01m%s\u001b[39;00m\u001b[38;5;124m'\u001b[39m\u001b[38;5;124m\"\u001b[39m \u001b[38;5;241m%\u001b[39m pkg_file)\n\u001b[1;32m     22\u001b[0m \u001b[38;5;28;01melse\u001b[39;00m:  \u001b[38;5;66;03m# assume it's a stream and pass it to Zip reader to sort out\u001b[39;00m\n\u001b[1;32m     23\u001b[0m     reader_cls \u001b[38;5;241m=\u001b[39m _ZipPkgReader\n",
      "\u001b[0;31mPackageNotFoundError\u001b[0m: Package not found at '-f'"
     ]
    }
   ],
   "source": [
    "test = Document(path)\n",
    "r = Rake()\n",
    "content = \"\"\n",
    "for p in test.paragraphs:\n",
    "    content+= p.text\n",
    "    content = content.replace(\"\\n\",\" \")\n",
    "con = \"\"\n",
    "for i in content:\n",
    "    if(ord(i) == 32 or (ord(i) > 64 and ord(i) < 91) or (ord(i) > 96 and ord(i) < 123)):\n",
    "        con+=i\n",
    "    else:\n",
    "        con+=\" \"\n",
    "\n",
    "con = nlp(con)\n",
    "con_noun = \" \".join([token.lemma_ for token in con if token.pos_ == \"NOUN\"])\n",
    "\n",
    "conkey = nlp(con_noun)"
   ]
  },
  {
   "cell_type": "code",
   "execution_count": 5,
   "id": "2cb2626e",
   "metadata": {},
   "outputs": [
    {
     "ename": "NameError",
     "evalue": "name 'conkey' is not defined",
     "output_type": "error",
     "traceback": [
      "\u001b[0;31m---------------------------------------------------------------------------\u001b[0m",
      "\u001b[0;31mNameError\u001b[0m                                 Traceback (most recent call last)",
      "Cell \u001b[0;32mIn[5], line 1\u001b[0m\n\u001b[0;32m----> 1\u001b[0m c \u001b[38;5;241m=\u001b[39m conkey\u001b[38;5;241m.\u001b[39msimilarity(ckey)\n\u001b[1;32m      2\u001b[0m m \u001b[38;5;241m=\u001b[39m conkey\u001b[38;5;241m.\u001b[39msimilarity(mkey)\n\u001b[1;32m      3\u001b[0m p \u001b[38;5;241m=\u001b[39m conkey\u001b[38;5;241m.\u001b[39msimilarity(pkey)\n",
      "\u001b[0;31mNameError\u001b[0m: name 'conkey' is not defined"
     ]
    }
   ],
   "source": [
    "c = conkey.similarity(ckey)\n",
    "m = conkey.similarity(mkey)\n",
    "p = conkey.similarity(pkey)"
   ]
  },
  {
   "cell_type": "code",
   "execution_count": 6,
   "id": "c069250b",
   "metadata": {},
   "outputs": [
    {
     "ename": "NameError",
     "evalue": "name 'm' is not defined",
     "output_type": "error",
     "traceback": [
      "\u001b[0;31m---------------------------------------------------------------------------\u001b[0m",
      "\u001b[0;31mNameError\u001b[0m                                 Traceback (most recent call last)",
      "Cell \u001b[0;32mIn[6], line 1\u001b[0m\n\u001b[0;32m----> 1\u001b[0m \u001b[38;5;28;01mif\u001b[39;00m m\u001b[38;5;241m>\u001b[39mp \u001b[38;5;129;01mand\u001b[39;00m m\u001b[38;5;241m>\u001b[39mc:\n\u001b[1;32m      2\u001b[0m \tshutil\u001b[38;5;241m.\u001b[39mmove(path, \u001b[38;5;124m\"\u001b[39m\u001b[38;5;124m/Users/tanvi/Documents/Project/Math\u001b[39m\u001b[38;5;124m\"\u001b[39m)\n\u001b[1;32m      3\u001b[0m \u001b[38;5;28;01melif\u001b[39;00m p\u001b[38;5;241m>\u001b[39mm \u001b[38;5;129;01mand\u001b[39;00m p\u001b[38;5;241m>\u001b[39mc:\n",
      "\u001b[0;31mNameError\u001b[0m: name 'm' is not defined"
     ]
    }
   ],
   "source": [
    "if m>p and m>c:\n",
    "\tshutil.move(path, \"/Users/tanvi/Documents/Project/Math\")\n",
    "elif p>m and p>c:\n",
    "\tshutil.move(path, \"/Users/tanvi/Documents/Project/Physics\")\n",
    "else:\n",
    "\tshutil.move(path, \"/Users/tanvi/Documents/Project/Chemistry\")\n",
    "\n",
    "print(\"Done\")"
   ]
  },
  {
   "cell_type": "code",
   "execution_count": null,
   "id": "3c3f125f",
   "metadata": {},
   "outputs": [],
   "source": []
  }
 ],
 "metadata": {
  "kernelspec": {
   "display_name": "Python 3 (ipykernel)",
   "language": "python",
   "name": "python3"
  },
  "language_info": {
   "codemirror_mode": {
    "name": "ipython",
    "version": 3
   },
   "file_extension": ".py",
   "mimetype": "text/x-python",
   "name": "python",
   "nbconvert_exporter": "python",
   "pygments_lexer": "ipython3",
   "version": "3.11.7"
  }
 },
 "nbformat": 4,
 "nbformat_minor": 5
}
